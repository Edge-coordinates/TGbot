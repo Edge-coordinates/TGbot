{
 "cells": [
  {
   "attachments": {},
   "cell_type": "markdown",
   "id": "ea513c46",
   "metadata": {},
   "source": [
    "# Hello World\n",
    "这是测试啦~"
   ]
  },
  {
   "cell_type": "code",
   "execution_count": 1,
   "id": "075e662b",
   "metadata": {},
   "outputs": [
    {
     "name": "stdout",
     "output_type": "stream",
     "text": [
      "hello world\n"
     ]
    }
   ],
   "source": [
    "print(\"hello world\")"
   ]
  }
 ],
 "metadata": {
  "kernelspec": {
   "display_name": "Python 3",
   "language": "python",
   "name": "python3"
  },
  "language_info": {
   "codemirror_mode": {
    "name": "ipython",
    "version": 3
   },
   "file_extension": ".py",
   "mimetype": "text/x-python",
   "name": "python",
   "nbconvert_exporter": "python",
   "pygments_lexer": "ipython3",
   "version": "3.10.5"
  },
  "vscode": {
   "interpreter": {
    "hash": "21989d211013301785af71e53e7d28452c935b06e1b324fd7aa91d93fbfa93af"
   }
  }
 },
 "nbformat": 4,
 "nbformat_minor": 5
}
